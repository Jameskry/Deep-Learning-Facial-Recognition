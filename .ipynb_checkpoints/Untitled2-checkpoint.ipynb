{
 "cells": [
  {
   "cell_type": "markdown",
   "metadata": {},
   "source": [
    "# Data pre-processing"
   ]
  },
  {
   "cell_type": "code",
   "execution_count": null,
   "metadata": {},
   "outputs": [],
   "source": [
    "import dlib\n",
    "import cv2\n",
    "import tensorflow as tf\n",
    "import glob\n",
    "import numpy as np\n",
    "import matplotlib.image as mpimg\n",
    "\n",
    "face_detector = dlib.get_frontal_face_detector()\n",
    "\n",
    "shape_predictor = dlib.shape_predictor('shape_predictor_68_face_landmarks.dat')\n",
    "\n",
    "face_recognition_model = dlib.face_recognition_model_v1('dlib_face_recognition_resnet_model_v1.dat')\n",
    "\n",
    "\n",
    "images = []\n",
    "\n",
    "def create_training_inputs(data_path, container, face_detector, shape_predictor, face_recognition_model):\n",
    "    for i, file_name in enumerate(glob.glob(data_path)):\n",
    "        im = mpimg.imread(file_name)\n",
    "        faces = face_detector(im, 1)\n",
    "        shapes = [shape_predictor(im, face) for face in faces]\n",
    "        if len(shapes) != 0:\n",
    "            face_ids = [face_recognition_model.compute_face_descriptor(im, shape, 1) for shape in shapes]\n",
    "            face_ids_array = np.array(face_ids)\n",
    "            face_ids_list = face_ids_array.tolist()[0]\n",
    "            container.append(face_ids_list)\n",
    "        else:\n",
    "            print (\"Cannot detect face in: \", i)\n",
    "        \n",
    "create_training_inputs(\"Khoi/*.jpg\", images, face_detector, shape_predictor, face_recognition_model)\n",
    "create_training_inputs(\"KD/*.jpg\", images, face_detector, shape_predictor, face_recognition_model)\n",
    "\n",
    "Inputs = np.array(images)\n",
    "\n",
    "print (\"Inputs shape: \", Inputs.shape)"
   ]
  },
  {
   "cell_type": "code",
   "execution_count": null,
   "metadata": {},
   "outputs": [],
   "source": [
    "labels = []\n",
    "\n",
    "khoi = [1, 0]\n",
    "kd = [0, 1]\n",
    "\n",
    "def create_training_labels(data_path, container, label):\n",
    "    for file_name in glob.glob(data_path):\n",
    "        container.append(label)\n",
    "        \n",
    "create_training_labels(\"Khoi/*.jpg\", labels, khoi)\n",
    "create_training_labels(\"KD/*.jpg\", labels, kd)\n",
    "\n",
    "Labels = np.array(labels)\n",
    "\n",
    "print (\"Labels shape: \", Labels.shape)\n"
   ]
  },
  {
   "cell_type": "markdown",
   "metadata": {},
   "source": [
    "# Build Computational Graph - Tensorflow"
   ]
  },
  {
   "cell_type": "code",
   "execution_count": 1,
   "metadata": {
    "collapsed": true
   },
   "outputs": [],
   "source": [
    "import tensorflow as tf\n",
    "\n",
    "# Hyperparameter\n",
    "hidden_size1 = 200\n",
    "hidden_size2 = 100\n",
    "\n",
    "\n",
    "# Create placeholders\n",
    "X  = tf.placeholder(tf.float32, [None, 128])\n",
    "Y_ = tf.placeholder(tf.float32, [None, 2])\n",
    "lr = tf.placeholder(tf.float32)\n",
    "pkeep = tf.placeholder(tf.float32)\n",
    "\n",
    "# Create variables\n",
    "w1 = tf.Variable(tf.truncated_normal([128, hidden_size1], stddev=0.1), tf.float32)\n",
    "b1 = tf.Variable(tf.ones([hidden_size1])/10)\n",
    "\n",
    "w2 = tf.Variable(tf.truncated_normal([hidden_size1, hidden_size2], stddev=0.1), tf.float32)\n",
    "b2 = tf.Variable(tf.ones([hidden_size2])/10)\n",
    "\n",
    "w3 = tf.Variable(tf.truncated_normal([hidden_size2, 2], stddev=0.1), tf.float32)\n",
    "b3 = tf.Variable(tf.ones([2])/10)\n",
    "\n",
    "Y1 = tf.matmul(X, w1) + b1\n",
    "Y1 = tf.nn.relu(Y1)\n",
    "\n",
    "Y2 = tf.matmul(Y1, w2) + b2\n",
    "Y2 = tf.nn.relu(Y2)\n",
    "\n",
    "Ydrop = tf.nn.dropout(Y2, pkeep)\n",
    "\n",
    "Ylogits = tf.matmul(Ydrop, w3) + b3\n",
    "Y = tf.nn.softmax(Ylogits)\n",
    "\n",
    "# Loss (Cross-entropy)\n",
    "loss = tf.nn.softmax_cross_entropy_with_logits(logits=Ylogits, labels=Y_)\n",
    "\n",
    "# Optimizer\n",
    "optimizer = tf.train.AdamOptimizer(lr).minimize(loss)\n",
    "\n",
    "# Accuracy\n",
    "is_correct = tf.equal(tf.argmax(Y,1), tf.argmax(Y_,1))\n",
    "accuracy = tf.reduce_mean(tf.cast(is_correct, tf.float32))\n",
    "\n",
    "# Initializer\n",
    "init = tf.global_variables_initializer()\n",
    "saver = tf.train.Saver()"
   ]
  },
  {
   "cell_type": "markdown",
   "metadata": {},
   "source": [
    "# Training Process"
   ]
  },
  {
   "cell_type": "code",
   "execution_count": null,
   "metadata": {},
   "outputs": [],
   "source": [
    "with tf.Session() as sess:\n",
    "    sess.run(init)\n",
    "    \n",
    "    train_dict = {X: Inputs, Y_: Labels, lr: 0.0001, pkeep: 0.9}\n",
    "    # Training\n",
    "    for i in range(1000):\n",
    "        sess.run(optimizer, feed_dict=train_dict)\n",
    "        \n",
    "        # Accuracy\n",
    "        if i % 100 == 0:\n",
    "            A, C = sess.run([accuracy, loss], feed_dict=train_dict)\n",
    "            print (\"At iteration: %s, Loss: %s, Accuracy: %s\" % (i,sum(C),A))\n",
    "    \n",
    "    save_path = saver.save(sess, \"Checkpoint/model.ckpt\")\n",
    "    print(\"Model saved in file: %s\" % save_path)"
   ]
  },
  {
   "cell_type": "markdown",
   "metadata": {},
   "source": [
    "# Running Application "
   ]
  },
  {
   "cell_type": "code",
   "execution_count": 2,
   "metadata": {},
   "outputs": [
    {
     "name": "stdout",
     "output_type": "stream",
     "text": [
      "INFO:tensorflow:Restoring parameters from Checkpoint/model.ckpt\n",
      "Model restored.\n"
     ]
    }
   ],
   "source": [
    "import tensorflow as tf\n",
    "import numpy as np\n",
    "import dlib\n",
    "import cv2\n",
    "\n",
    "\n",
    "face_detector = dlib.get_frontal_face_detector()\n",
    "\n",
    "shape_predictor = dlib.shape_predictor('shape_predictor_68_face_landmarks.dat')\n",
    "\n",
    "face_recognition_model = dlib.face_recognition_model_v1('dlib_face_recognition_resnet_model_v1.dat')\n",
    "\n",
    "def detect_face(im, sess):\n",
    "    images_test = []\n",
    "    faces = face_detector(im, 1)\n",
    "    shapes = [shape_predictor(im, face) for face in faces]\n",
    "    face_ids = [face_recognition_model.compute_face_descriptor(im, shape, 1) for shape in shapes]\n",
    "    face_ids_array = np.array(face_ids)\n",
    "\n",
    "    face_ids_list = face_ids_array.tolist()\n",
    "    [images_test.append(face_id) for face_id in face_ids_list]\n",
    "    \n",
    "    if len(images_test) != 0:\n",
    "        test_input = np.array(images_test)\n",
    "\n",
    "        test_dict = {X: test_input, pkeep: 0.9}\n",
    "\n",
    "        Y_predict = sess.run(Y, feed_dict=test_dict)\n",
    "\n",
    "        for i, result in enumerate(Y_predict):\n",
    "            confidence = round(result[np.argmax(result)] * 100, 2)\n",
    "            if np.argmax(result) == 0:\n",
    "                predicted_face = \"Khoi face \" + str(confidence) + \" %\"\n",
    "            elif np.argmax(result) == 1:\n",
    "                predicted_face = \"KD face \" + str(confidence) + \" %\"\n",
    "\n",
    "            font = cv2.FONT_HERSHEY_SIMPLEX\n",
    "            cv2.putText(im,predicted_face,(faces[i].left()-50,faces[i].top()-50), font, 2,(255,0,0),2,cv2.LINE_AA)\n",
    "\n",
    "            cv2.rectangle(im,(faces[i].left(),faces[i].top()),(faces[i].right(),faces[i].bottom()),(255,0,0),2)\n",
    "    \n",
    "    return im\n",
    "\n",
    "cap = cv2.VideoCapture(0)\n",
    "\n",
    "with tf.Session() as sess:\n",
    "    saver.restore(sess, \"Checkpoint/model.ckpt\")\n",
    "    print(\"Model restored.\")\n",
    "\n",
    "    while True:\n",
    "        ret, frame = cap.read()\n",
    "        cv2.imshow('Live stream', detect_face(frame, sess))\n",
    "        if cv2.waitKey(1) == 13:\n",
    "            break\n",
    "\n",
    "cap.release()\n",
    "cv2.destroyAllWindows() "
   ]
  },
  {
   "cell_type": "code",
   "execution_count": null,
   "metadata": {
    "collapsed": true
   },
   "outputs": [],
   "source": []
  }
 ],
 "metadata": {
  "kernelspec": {
   "display_name": "Python 3",
   "language": "python",
   "name": "python3"
  },
  "language_info": {
   "codemirror_mode": {
    "name": "ipython",
    "version": 3
   },
   "file_extension": ".py",
   "mimetype": "text/x-python",
   "name": "python",
   "nbconvert_exporter": "python",
   "pygments_lexer": "ipython3",
   "version": "3.6.1"
  }
 },
 "nbformat": 4,
 "nbformat_minor": 2
}
